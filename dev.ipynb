{
 "cells": [
  {
   "cell_type": "markdown",
   "metadata": {},
   "source": [
    "# Loading and saving models"
   ]
  },
  {
   "cell_type": "code",
   "execution_count": null,
   "metadata": {},
   "outputs": [],
   "source": [
    "from transformers import WhisperProcessor, WhisperForConditionalGeneration\n",
    "import os \n",
    "\n",
    "processor = WhisperProcessor.from_pretrained(\"bofenghuang/whisper-large-v2-cv11-german\")\n",
    "model = WhisperForConditionalGeneration.from_pretrained(\"bofenghuang/whisper-large-v2-cv11-german\")\n",
    "model.config.forced_decoder_ids = None\n",
    "\n",
    "# Assuming `model` is your trained model and `processor` is your processor\n",
    "save_directory = \"models/whisper-large-v2-cv11-german\"\n",
    "\n",
    "# Create output directory if needed\n",
    "if not os.path.exists(save_directory):\n",
    "    os.makedirs(save_directory)\n",
    "\n",
    "# Save the model\n",
    "model.save_pretrained(save_directory)\n",
    "\n",
    "# Save the processor/tokenizer\n",
    "processor.save_pretrained(save_directory)"
   ]
  },
  {
   "cell_type": "markdown",
   "metadata": {},
   "source": [
    "# With manual setting of language:"
   ]
  },
  {
   "cell_type": "code",
   "execution_count": 3,
   "metadata": {},
   "outputs": [
    {
     "name": "stderr",
     "output_type": "stream",
     "text": [
      "Special tokens have been added in the vocabulary, make sure the associated word embeddings are fine-tuned or trained.\n",
      "Loading checkpoint shards: 100%|██████████| 2/2 [00:01<00:00,  1.14it/s]\n"
     ]
    }
   ],
   "source": [
    "from transformers import WhisperForConditionalGeneration, WhisperFeatureExtractor, WhisperTokenizer, pipeline\n",
    "import torch\n",
    "import librosa\n",
    "\n",
    "feature_extractor = WhisperFeatureExtractor.from_pretrained(\"models/whisper-large-v2-cv11-german\")\n",
    "tokenizer = WhisperTokenizer.from_pretrained(\"models/whisper-large-v2-cv11-german\", language=\"german\", task=\"transcribe\")\n",
    "\n",
    "model = WhisperForConditionalGeneration.from_pretrained(\"models/whisper-large-v2-cv11-german\")\n",
    "forced_decoder_ids = tokenizer.get_decoder_prompt_ids(language=\"de\", task=\"transcribe\")\n",
    "\n",
    "if torch.cuda.is_available():\n",
    "    device = torch.device(\"cuda:0\")\n",
    "elif torch.backends.mps.is_available():\n",
    "    device = torch.device(\"mps\")\n",
    "else:\n",
    "    device = torch.device(\"cpu\")\n",
    "\n",
    "asr_pipe = pipeline(\n",
    "    \"automatic-speech-recognition\",\n",
    "    model=model,\n",
    "    feature_extractor=feature_extractor,\n",
    "    tokenizer=tokenizer,\n",
    "    chunk_length_s=30,\n",
    "    stride_length_s=10,\n",
    "    device=device,\n",
    ")"
   ]
  },
  {
   "cell_type": "code",
   "execution_count": 3,
   "metadata": {},
   "outputs": [
    {
     "ename": "FileNotFoundError",
     "evalue": "[WinError 2] The system cannot find the file specified",
     "output_type": "error",
     "traceback": [
      "\u001b[1;31m---------------------------------------------------------------------------\u001b[0m",
      "\u001b[1;31mFileNotFoundError\u001b[0m                         Traceback (most recent call last)",
      "\u001b[1;32mc:\\Users\\svena\\Documents\\GitHub\\audioTranscribe\\dev.ipynb Cell 5\u001b[0m line \u001b[0;36m7\n\u001b[0;32m      <a href='vscode-notebook-cell:/c%3A/Users/svena/Documents/GitHub/audioTranscribe/dev.ipynb#W6sZmlsZQ%3D%3D?line=3'>4</a>\u001b[0m audio_file \u001b[39m=\u001b[39m \u001b[39m\"\u001b[39m\u001b[39mdemoFiles/InterviewMuenchen.mp3\u001b[39m\u001b[39m\"\u001b[39m\n\u001b[0;32m      <a href='vscode-notebook-cell:/c%3A/Users/svena/Documents/GitHub/audioTranscribe/dev.ipynb#W6sZmlsZQ%3D%3D?line=5'>6</a>\u001b[0m \u001b[39m# Load audio file\u001b[39;00m\n\u001b[1;32m----> <a href='vscode-notebook-cell:/c%3A/Users/svena/Documents/GitHub/audioTranscribe/dev.ipynb#W6sZmlsZQ%3D%3D?line=6'>7</a>\u001b[0m audio \u001b[39m=\u001b[39m AudioSegment\u001b[39m.\u001b[39;49mfrom_mp3(audio_file)\n\u001b[0;32m      <a href='vscode-notebook-cell:/c%3A/Users/svena/Documents/GitHub/audioTranscribe/dev.ipynb#W6sZmlsZQ%3D%3D?line=8'>9</a>\u001b[0m \u001b[39m# Slice the first minute\u001b[39;00m\n\u001b[0;32m     <a href='vscode-notebook-cell:/c%3A/Users/svena/Documents/GitHub/audioTranscribe/dev.ipynb#W6sZmlsZQ%3D%3D?line=9'>10</a>\u001b[0m one_minute_audio \u001b[39m=\u001b[39m audio[:\u001b[39m60000\u001b[39m]  \u001b[39m# pydub works in milliseconds\u001b[39;00m\n",
      "File \u001b[1;32mc:\\Users\\svena\\Documents\\GitHub\\audioTranscribe\\env\\lib\\site-packages\\pydub\\audio_segment.py:796\u001b[0m, in \u001b[0;36mAudioSegment.from_mp3\u001b[1;34m(cls, file, parameters)\u001b[0m\n\u001b[0;32m    794\u001b[0m \u001b[39m@classmethod\u001b[39m\n\u001b[0;32m    795\u001b[0m \u001b[39mdef\u001b[39;00m \u001b[39mfrom_mp3\u001b[39m(\u001b[39mcls\u001b[39m, file, parameters\u001b[39m=\u001b[39m\u001b[39mNone\u001b[39;00m):\n\u001b[1;32m--> 796\u001b[0m     \u001b[39mreturn\u001b[39;00m \u001b[39mcls\u001b[39;49m\u001b[39m.\u001b[39;49mfrom_file(file, \u001b[39m'\u001b[39;49m\u001b[39mmp3\u001b[39;49m\u001b[39m'\u001b[39;49m, parameters\u001b[39m=\u001b[39;49mparameters)\n",
      "File \u001b[1;32mc:\\Users\\svena\\Documents\\GitHub\\audioTranscribe\\env\\lib\\site-packages\\pydub\\audio_segment.py:728\u001b[0m, in \u001b[0;36mAudioSegment.from_file\u001b[1;34m(cls, file, format, codec, parameters, start_second, duration, **kwargs)\u001b[0m\n\u001b[0;32m    726\u001b[0m     info \u001b[39m=\u001b[39m \u001b[39mNone\u001b[39;00m\n\u001b[0;32m    727\u001b[0m \u001b[39melse\u001b[39;00m:\n\u001b[1;32m--> 728\u001b[0m     info \u001b[39m=\u001b[39m mediainfo_json(orig_file, read_ahead_limit\u001b[39m=\u001b[39;49mread_ahead_limit)\n\u001b[0;32m    729\u001b[0m \u001b[39mif\u001b[39;00m info:\n\u001b[0;32m    730\u001b[0m     audio_streams \u001b[39m=\u001b[39m [x \u001b[39mfor\u001b[39;00m x \u001b[39min\u001b[39;00m info[\u001b[39m'\u001b[39m\u001b[39mstreams\u001b[39m\u001b[39m'\u001b[39m]\n\u001b[0;32m    731\u001b[0m                      \u001b[39mif\u001b[39;00m x[\u001b[39m'\u001b[39m\u001b[39mcodec_type\u001b[39m\u001b[39m'\u001b[39m] \u001b[39m==\u001b[39m \u001b[39m'\u001b[39m\u001b[39maudio\u001b[39m\u001b[39m'\u001b[39m]\n",
      "File \u001b[1;32mc:\\Users\\svena\\Documents\\GitHub\\audioTranscribe\\env\\lib\\site-packages\\pydub\\utils.py:274\u001b[0m, in \u001b[0;36mmediainfo_json\u001b[1;34m(filepath, read_ahead_limit)\u001b[0m\n\u001b[0;32m    271\u001b[0m         file\u001b[39m.\u001b[39mclose()\n\u001b[0;32m    273\u001b[0m command \u001b[39m=\u001b[39m [prober, \u001b[39m'\u001b[39m\u001b[39m-of\u001b[39m\u001b[39m'\u001b[39m, \u001b[39m'\u001b[39m\u001b[39mjson\u001b[39m\u001b[39m'\u001b[39m] \u001b[39m+\u001b[39m command_args\n\u001b[1;32m--> 274\u001b[0m res \u001b[39m=\u001b[39m Popen(command, stdin\u001b[39m=\u001b[39;49mstdin_parameter, stdout\u001b[39m=\u001b[39;49mPIPE, stderr\u001b[39m=\u001b[39;49mPIPE)\n\u001b[0;32m    275\u001b[0m output, stderr \u001b[39m=\u001b[39m res\u001b[39m.\u001b[39mcommunicate(\u001b[39minput\u001b[39m\u001b[39m=\u001b[39mstdin_data)\n\u001b[0;32m    276\u001b[0m output \u001b[39m=\u001b[39m output\u001b[39m.\u001b[39mdecode(\u001b[39m\"\u001b[39m\u001b[39mutf-8\u001b[39m\u001b[39m\"\u001b[39m, \u001b[39m'\u001b[39m\u001b[39mignore\u001b[39m\u001b[39m'\u001b[39m)\n",
      "File \u001b[1;32m~\\AppData\\Local\\Programs\\Python\\Python310\\lib\\subprocess.py:966\u001b[0m, in \u001b[0;36mPopen.__init__\u001b[1;34m(self, args, bufsize, executable, stdin, stdout, stderr, preexec_fn, close_fds, shell, cwd, env, universal_newlines, startupinfo, creationflags, restore_signals, start_new_session, pass_fds, user, group, extra_groups, encoding, errors, text, umask, pipesize)\u001b[0m\n\u001b[0;32m    962\u001b[0m         \u001b[39mif\u001b[39;00m \u001b[39mself\u001b[39m\u001b[39m.\u001b[39mtext_mode:\n\u001b[0;32m    963\u001b[0m             \u001b[39mself\u001b[39m\u001b[39m.\u001b[39mstderr \u001b[39m=\u001b[39m io\u001b[39m.\u001b[39mTextIOWrapper(\u001b[39mself\u001b[39m\u001b[39m.\u001b[39mstderr,\n\u001b[0;32m    964\u001b[0m                     encoding\u001b[39m=\u001b[39mencoding, errors\u001b[39m=\u001b[39merrors)\n\u001b[1;32m--> 966\u001b[0m     \u001b[39mself\u001b[39;49m\u001b[39m.\u001b[39;49m_execute_child(args, executable, preexec_fn, close_fds,\n\u001b[0;32m    967\u001b[0m                         pass_fds, cwd, env,\n\u001b[0;32m    968\u001b[0m                         startupinfo, creationflags, shell,\n\u001b[0;32m    969\u001b[0m                         p2cread, p2cwrite,\n\u001b[0;32m    970\u001b[0m                         c2pread, c2pwrite,\n\u001b[0;32m    971\u001b[0m                         errread, errwrite,\n\u001b[0;32m    972\u001b[0m                         restore_signals,\n\u001b[0;32m    973\u001b[0m                         gid, gids, uid, umask,\n\u001b[0;32m    974\u001b[0m                         start_new_session)\n\u001b[0;32m    975\u001b[0m \u001b[39mexcept\u001b[39;00m:\n\u001b[0;32m    976\u001b[0m     \u001b[39m# Cleanup if the child failed starting.\u001b[39;00m\n\u001b[0;32m    977\u001b[0m     \u001b[39mfor\u001b[39;00m f \u001b[39min\u001b[39;00m \u001b[39mfilter\u001b[39m(\u001b[39mNone\u001b[39;00m, (\u001b[39mself\u001b[39m\u001b[39m.\u001b[39mstdin, \u001b[39mself\u001b[39m\u001b[39m.\u001b[39mstdout, \u001b[39mself\u001b[39m\u001b[39m.\u001b[39mstderr)):\n",
      "File \u001b[1;32m~\\AppData\\Local\\Programs\\Python\\Python310\\lib\\subprocess.py:1435\u001b[0m, in \u001b[0;36mPopen._execute_child\u001b[1;34m(self, args, executable, preexec_fn, close_fds, pass_fds, cwd, env, startupinfo, creationflags, shell, p2cread, p2cwrite, c2pread, c2pwrite, errread, errwrite, unused_restore_signals, unused_gid, unused_gids, unused_uid, unused_umask, unused_start_new_session)\u001b[0m\n\u001b[0;32m   1433\u001b[0m \u001b[39m# Start the process\u001b[39;00m\n\u001b[0;32m   1434\u001b[0m \u001b[39mtry\u001b[39;00m:\n\u001b[1;32m-> 1435\u001b[0m     hp, ht, pid, tid \u001b[39m=\u001b[39m _winapi\u001b[39m.\u001b[39;49mCreateProcess(executable, args,\n\u001b[0;32m   1436\u001b[0m                              \u001b[39m# no special security\u001b[39;49;00m\n\u001b[0;32m   1437\u001b[0m                              \u001b[39mNone\u001b[39;49;00m, \u001b[39mNone\u001b[39;49;00m,\n\u001b[0;32m   1438\u001b[0m                              \u001b[39mint\u001b[39;49m(\u001b[39mnot\u001b[39;49;00m close_fds),\n\u001b[0;32m   1439\u001b[0m                              creationflags,\n\u001b[0;32m   1440\u001b[0m                              env,\n\u001b[0;32m   1441\u001b[0m                              cwd,\n\u001b[0;32m   1442\u001b[0m                              startupinfo)\n\u001b[0;32m   1443\u001b[0m \u001b[39mfinally\u001b[39;00m:\n\u001b[0;32m   1444\u001b[0m     \u001b[39m# Child is launched. Close the parent's copy of those pipe\u001b[39;00m\n\u001b[0;32m   1445\u001b[0m     \u001b[39m# handles that only the child should have open.  You need\u001b[39;00m\n\u001b[1;32m   (...)\u001b[0m\n\u001b[0;32m   1448\u001b[0m     \u001b[39m# pipe will not close when the child process exits and the\u001b[39;00m\n\u001b[0;32m   1449\u001b[0m     \u001b[39m# ReadFile will hang.\u001b[39;00m\n\u001b[0;32m   1450\u001b[0m     \u001b[39mself\u001b[39m\u001b[39m.\u001b[39m_close_pipe_fds(p2cread, p2cwrite,\n\u001b[0;32m   1451\u001b[0m                          c2pread, c2pwrite,\n\u001b[0;32m   1452\u001b[0m                          errread, errwrite)\n",
      "\u001b[1;31mFileNotFoundError\u001b[0m: [WinError 2] The system cannot find the file specified"
     ]
    }
   ],
   "source": [
    "from pydub import AudioSegment\n",
    "\n",
    "# Specify the path to your local audio file\n",
    "audio_file = \"demoFiles/InterviewMuenchen.mp3\"\n",
    "\n",
    "# Load audio file\n",
    "audio = AudioSegment.from_mp3(audio_file)\n",
    "\n",
    "# Slice the first minute\n",
    "one_minute_audio = audio[:60000]  # pydub works in milliseconds\n",
    "\n",
    "# Save to a temporary file\n",
    "temp_file = \"temp.mp3\"\n",
    "one_minute_audio.export(temp_file, format=\"mp3\")\n",
    "\n",
    "# Use the temporary file for prediction\n",
    "prediction = asr_pipe(temp_file, batch_size=1, generate_kwargs={\"forced_decoder_ids\": forced_decoder_ids})\n",
    "\n",
    "print(prediction['text'])"
   ]
  }
 ],
 "metadata": {
  "kernelspec": {
   "display_name": "env",
   "language": "python",
   "name": "python3"
  },
  "language_info": {
   "codemirror_mode": {
    "name": "ipython",
    "version": 3
   },
   "file_extension": ".py",
   "mimetype": "text/x-python",
   "name": "python",
   "nbconvert_exporter": "python",
   "pygments_lexer": "ipython3",
   "version": "3.10.4"
  }
 },
 "nbformat": 4,
 "nbformat_minor": 2
}
